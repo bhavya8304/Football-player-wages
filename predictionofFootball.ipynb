{
  "cells": [
    {
      "cell_type": "code",
      "execution_count": null,
      "metadata": {
        "colab": {
          "base_uri": "https://localhost:8080/"
        },
        "id": "Wrs1SfijfgBh",
        "outputId": "d0472300-8573-4e42-c7a8-c5b5a9175a89"
      },
      "outputs": [
        {
          "output_type": "stream",
          "name": "stdout",
          "text": [
            "Mean Squared Error: 755228027.1960027\n",
            "R2 Score: 0.5558452209770355\n"
          ]
        }
      ],
      "source": [
        "# import necessary libraries\n",
        "import pandas as pd\n",
        "from sklearn.model_selection import train_test_split\n",
        "from sklearn.linear_model import LinearRegression\n",
        "from sklearn.metrics import mean_squared_error, r2_score\n",
        "\n",
        "# load the dataset\n",
        "data = pd.read_csv('players_20.csv')\n",
        "\n",
        "# select relevant features for the model\n",
        "features = ['age', 'overall', 'potential', 'value_eur']\n",
        "\n",
        "# split the dataset into training and test sets\n",
        "train_data, test_data = train_test_split(data, test_size=0.25, random_state=42)\n",
        "\n",
        "# prepare the data for the model\n",
        "X_train = train_data[features]\n",
        "y_train = train_data['wage_eur']\n",
        "X_test = test_data[features]\n",
        "y_test = test_data['wage_eur']\n",
        "\n",
        "# select the appropriate machine learning algorithm for the problem\n",
        "model = LinearRegression()\n",
        "\n",
        "# train the model on the training dataset\n",
        "model.fit(X_train, y_train)\n",
        "\n",
        "# evaluate the performance of the trained model on the test dataset\n",
        "y_pred = model.predict(X_test)\n",
        "mse = mean_squared_error(y_test, y_pred)\n",
        "r2 = r2_score(y_test, y_pred)\n",
        "\n",
        "# print the model performance metrics\n",
        "print('Mean Squared Error:', mse)\n",
        "print('R2 Score:', r2)# import necessary libraries\n",
        "import pandas as pd\n",
        "from sklearn.model_selection import train_test_split\n",
        "from sklearn.linear_model import LinearRegression\n",
        "from sklearn.metrics import mean_squared_error, r2_score\n",
        "\n",
        "# load the dataset\n",
        "data = pd.read_csv('players_20.csv')\n",
        "\n",
        "# select relevant features for the model\n",
        "features = ['age', 'overall', 'potential', 'value_eur']\n",
        "\n",
        "# split the dataset into training and test sets\n",
        "train_data, test_data = train_test_split(data, test_size=0.25, random_state=42)\n",
        "\n",
        "# prepare the data for the model\n",
        "X_train = train_data[features]\n",
        "y_train = train_data['wage_eur']\n",
        "X_test = test_data[features]\n",
        "y_test = test_data['wage_eur']\n",
        "\n",
        "# select the appropriate machine learning algorithm for the problem\n",
        "model = LinearRegression()\n",
        "\n",
        "# train the model on the training dataset\n",
        "model.fit(X_train, y_train)\n",
        "\n",
        "# evaluate the performance of the trained model on the test dataset\n",
        "y_pred = model.predict(X_test)\n",
        "mse = mean_squared_error(y_test, y_pred)\n",
        "r2 = r2_score(y_test, y_pred)\n",
        "\n",
        "# print the model performance metrics\n",
        "print('Mean Squared Error:', mse)\n",
        "print('R2 Score:', r2)"
      ]
    }
  ],
  "metadata": {
    "colab": {
      "provenance": []
    },
    "kernelspec": {
      "display_name": "Python 3",
      "name": "python3"
    },
    "language_info": {
      "name": "python"
    }
  },
  "nbformat": 4,
  "nbformat_minor": 0
}